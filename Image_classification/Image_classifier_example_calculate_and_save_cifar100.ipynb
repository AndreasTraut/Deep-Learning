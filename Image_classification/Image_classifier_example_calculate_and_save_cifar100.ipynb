{
 "cells": [
  {
   "cell_type": "markdown",
   "metadata": {},
   "source": [
    "Author: Andreas Traut   \n",
    "Basis for this notebook are various tutorials which I found on the internet and documentation from Tensorflow.   \n",
    "Date: 11.09.2020"
   ]
  },
  {
   "cell_type": "markdown",
   "metadata": {
    "colab_type": "text",
    "id": "Jjt3HlyNzOfc"
   },
   "source": [
    "In this notebook the data will be loaded, the model will be designed, optimized, trained, evaluated and saved. \n",
    "\n",
    "**Here I use _\"cifar100\"_ instead of _\"cifar10\"_ !**  \n",
    "\n",
    "We will see that with the same model the accuracy will drop from over 80% to about 50%. "
   ]
  },
  {
   "cell_type": "markdown",
   "metadata": {
    "colab_type": "text",
    "id": "9WFys2wRhSUp"
   },
   "source": [
    "# Import the libaries"
   ]
  },
  {
   "cell_type": "code",
   "execution_count": 1,
   "metadata": {
    "colab": {},
    "colab_type": "code",
    "id": "3IPTbCvEgMlD"
   },
   "outputs": [],
   "source": [
    "import numpy \n",
    "import matplotlib.pyplot as plt\n",
    "from tensorflow.keras.models import Sequential\n",
    "from tensorflow.keras.layers import Dense, Dropout, Flatten, BatchNormalization, Activation\n",
    "from tensorflow.keras.layers import Conv2D, MaxPooling2D\n",
    "from tensorflow.keras import constraints \n",
    "from tensorflow.keras import utils"
   ]
  },
  {
   "cell_type": "code",
   "execution_count": 2,
   "metadata": {
    "colab": {},
    "colab_type": "code",
    "id": "3jNg8_SfgXzh"
   },
   "outputs": [],
   "source": [
    "seed = 21"
   ]
  },
  {
   "cell_type": "markdown",
   "metadata": {
    "colab_type": "text",
    "id": "lQEqM-TqhAVw"
   },
   "source": [
    "# Load and prepare the data"
   ]
  },
  {
   "cell_type": "markdown",
   "metadata": {},
   "source": [
    "Now we will use cifar100 instead of cifar10. We will see that with the same model the accuracy will drop from over 80% to about 50%. "
   ]
  },
  {
   "cell_type": "code",
   "execution_count": 3,
   "metadata": {},
   "outputs": [],
   "source": [
    "from tensorflow.keras.datasets import cifar100"
   ]
  },
  {
   "cell_type": "code",
   "execution_count": 4,
   "metadata": {
    "colab": {},
    "colab_type": "code",
    "id": "Tbdpfk8wgbnJ"
   },
   "outputs": [],
   "source": [
    "(X_train, y_train_raw), (X_test, y_test_raw) = cifar100.load_data(label_mode=\"fine\")"
   ]
  },
  {
   "cell_type": "code",
   "execution_count": 5,
   "metadata": {
    "colab": {},
    "colab_type": "code",
    "id": "oV79Y9AGgdJx"
   },
   "outputs": [],
   "source": [
    "# normalize the inputs from 0-255 to between 0 and 1 by dividing by 255\n",
    "X_train = X_train.astype('float32')\n",
    "X_test = X_test.astype('float32')\n",
    "X_train = X_train / 255.0\n",
    "X_test = X_test / 255.0"
   ]
  },
  {
   "cell_type": "code",
   "execution_count": 6,
   "metadata": {
    "colab": {},
    "colab_type": "code",
    "id": "3gXAe8Bngfwx"
   },
   "outputs": [],
   "source": [
    "# one hot encode outputs\n",
    "y_train = utils.to_categorical(y_train_raw)\n",
    "y_test = utils.to_categorical(y_test_raw)\n",
    "class_num = y_test.shape[1]"
   ]
  },
  {
   "cell_type": "code",
   "execution_count": 7,
   "metadata": {},
   "outputs": [
    {
     "data": {
      "text/plain": [
       "(50000, 32, 32, 3)"
      ]
     },
     "execution_count": 7,
     "metadata": {},
     "output_type": "execute_result"
    }
   ],
   "source": [
    "X_train.shape"
   ]
  },
  {
   "cell_type": "code",
   "execution_count": 8,
   "metadata": {},
   "outputs": [
    {
     "data": {
      "text/plain": [
       "(10000, 32, 32, 3)"
      ]
     },
     "execution_count": 8,
     "metadata": {},
     "output_type": "execute_result"
    }
   ],
   "source": [
    "X_test.shape"
   ]
  },
  {
   "cell_type": "code",
   "execution_count": 9,
   "metadata": {},
   "outputs": [
    {
     "data": {
      "text/plain": [
       "array([[19],\n",
       "       [29],\n",
       "       [ 0],\n",
       "       ...,\n",
       "       [ 3],\n",
       "       [ 7],\n",
       "       [73]])"
      ]
     },
     "execution_count": 9,
     "metadata": {},
     "output_type": "execute_result"
    }
   ],
   "source": [
    "y_train_raw"
   ]
  },
  {
   "cell_type": "code",
   "execution_count": 10,
   "metadata": {},
   "outputs": [],
   "source": [
    "label = [\n",
    "'apple', # id 0\n",
    "'aquarium_fish',\n",
    "'baby',\n",
    "'bear',\n",
    "'beaver',\n",
    "'bed',\n",
    "'bee',\n",
    "'beetle',\n",
    "'bicycle',\n",
    "'bottle',\n",
    "'bowl',\n",
    "'boy',\n",
    "'bridge',\n",
    "'bus',\n",
    "'butterfly',\n",
    "'camel',\n",
    "'can',\n",
    "'castle',\n",
    "'caterpillar',\n",
    "'cattle',\n",
    "'chair',\n",
    "'chimpanzee',\n",
    "'clock',\n",
    "'cloud',\n",
    "'cockroach',\n",
    "'couch',\n",
    "'crab',\n",
    "'crocodile',\n",
    "'cup',\n",
    "'dinosaur',\n",
    "'dolphin',\n",
    "'elephant',\n",
    "'flatfish',\n",
    "'forest',\n",
    "'fox',\n",
    "'girl',\n",
    "'hamster',\n",
    "'house',\n",
    "'kangaroo',\n",
    "'computer_keyboard',\n",
    "'lamp',\n",
    "'lawn_mower',\n",
    "'leopard',\n",
    "'lion',\n",
    "'lizard',\n",
    "'lobster',\n",
    "'man',\n",
    "'maple_tree',\n",
    "'motorcycle',\n",
    "'mountain',\n",
    "'mouse',\n",
    "'mushroom',\n",
    "'oak_tree',\n",
    "'orange',\n",
    "'orchid',\n",
    "'otter',\n",
    "'palm_tree',\n",
    "'pear',\n",
    "'pickup_truck',\n",
    "'pine_tree',\n",
    "'plain',\n",
    "'plate',\n",
    "'poppy',\n",
    "'porcupine',\n",
    "'possum',\n",
    "'rabbit',\n",
    "'raccoon',\n",
    "'ray',\n",
    "'road',\n",
    "'rocket',\n",
    "'rose',\n",
    "'sea',\n",
    "'seal',\n",
    "'shark',\n",
    "'shrew',\n",
    "'skunk',\n",
    "'skyscraper',\n",
    "'snail',\n",
    "'snake',\n",
    "'spider',\n",
    "'squirrel',\n",
    "'streetcar',\n",
    "'sunflower',\n",
    "'sweet_pepper',\n",
    "'table',\n",
    "'tank',\n",
    "'telephone',\n",
    "'television',\n",
    "'tiger',\n",
    "'tractor',\n",
    "'train',\n",
    "'trout',\n",
    "'tulip',\n",
    "'turtle',\n",
    "'wardrobe',\n",
    "'whale',\n",
    "'willow_tree',\n",
    "'wolf',\n",
    "'woman',\n",
    "'worm',\n",
    "]"
   ]
  },
  {
   "cell_type": "code",
   "execution_count": 13,
   "metadata": {},
   "outputs": [
    {
     "data": {
      "image/png": "[encoded data removed]",
      "text/plain": [
       "<Figure size 720x576 with 25 Axes>"
      ]
     },
     "metadata": {
      "needs_background": "light"
     },
     "output_type": "display_data"
    }
   ],
   "source": [
    "plt.figure(figsize=(10, 8))\n",
    "n_rows, n_cols = 5, 5\n",
    "for row in range(n_rows):\n",
    "    for col in range(n_cols):\n",
    "        i = row * n_cols + col\n",
    "        plt.subplot(n_rows, n_cols, i + 1)\n",
    "        t = str(y_train_raw[i][0]) + \":\" + label[y_train_raw[i][0]]\n",
    "        plt.title(t, fontsize=11)\n",
    "        plt.subplots_adjust(wspace=2., hspace=0.8)\n",
    "        plt.axis(\"off\")        \n",
    "        plt.imshow(X_train[i])"
   ]
  },
  {
   "cell_type": "markdown",
   "metadata": {
    "colab_type": "text",
    "id": "lQ9EE24Eg4i6"
   },
   "source": [
    "# Design the model"
   ]
  },
  {
   "cell_type": "code",
   "execution_count": 8,
   "metadata": {
    "colab": {},
    "colab_type": "code",
    "id": "1B4Tn0kJgjO6"
   },
   "outputs": [],
   "source": [
    "model = Sequential()"
   ]
  },
  {
   "cell_type": "markdown",
   "metadata": {
    "colab_type": "text",
    "id": "Ud-HRYyahfqB"
   },
   "source": [
    "The first layer is a convolutional layer. We specify 32 filters (size of each filter is 3x3). \n",
    "\n",
    "Activation is \"relu\". \n",
    "\n",
    "Dont change the size of the image: Padding='same' "
   ]
  },
  {
   "cell_type": "code",
   "execution_count": 9,
   "metadata": {
    "colab": {},
    "colab_type": "code",
    "id": "l_p0cXOsgpd6"
   },
   "outputs": [],
   "source": [
    "model.add(Conv2D(32, (3, 3), input_shape=X_train.shape[1:], padding='same'))\n",
    "model.add(Activation('relu'))"
   ]
  },
  {
   "cell_type": "markdown",
   "metadata": {
    "colab_type": "text",
    "id": "QQdSAsGOiNh6"
   },
   "source": [
    "In order to prevent overfitting we randomly put 20% or the connections to zero: "
   ]
  },
  {
   "cell_type": "code",
   "execution_count": 10,
   "metadata": {
    "colab": {},
    "colab_type": "code",
    "id": "2eN6KEoFhcIi"
   },
   "outputs": [],
   "source": [
    "model.add(Dropout(0.2))"
   ]
  },
  {
   "cell_type": "markdown",
   "metadata": {
    "colab_type": "text",
    "id": "7lAAwa9riDux"
   },
   "source": [
    "Batch Normalization normalizes the inputs heading into the next layer, ensuring that the network always creates activations with the same distribution that we desire:"
   ]
  },
  {
   "cell_type": "code",
   "execution_count": 11,
   "metadata": {
    "colab": {},
    "colab_type": "code",
    "id": "nCn117feiYME"
   },
   "outputs": [],
   "source": [
    "model.add(BatchNormalization())"
   ]
  },
  {
   "cell_type": "markdown",
   "metadata": {
    "colab_type": "text",
    "id": "HyHacxlniYjh"
   },
   "source": [
    "Now comes another convolutional layer, but the filter size increases so the network can learn more complex representations:"
   ]
  },
  {
   "cell_type": "code",
   "execution_count": 12,
   "metadata": {
    "colab": {},
    "colab_type": "code",
    "id": "4iPwGhgyikIg"
   },
   "outputs": [],
   "source": [
    "model.add(Conv2D(64, (3, 3), padding='same'))\n",
    "model.add(Activation('relu'))"
   ]
  },
  {
   "cell_type": "markdown",
   "metadata": {
    "colab_type": "text",
    "id": "9WFGX7n4ilsI"
   },
   "source": [
    "Pooling layer: helps make the image classifier more robust. It's important not to have too many pooling layers, as each pooling discards some data. Pooling too often will lead to there being almost nothing for the densely connected layers to learn about when the data reaches them.\n",
    "\n",
    "Plus dropout and BatchNormalization. "
   ]
  },
  {
   "cell_type": "code",
   "execution_count": 13,
   "metadata": {
    "colab": {},
    "colab_type": "code",
    "id": "-Deyo9MqoxMK"
   },
   "outputs": [],
   "source": [
    "model.add(MaxPooling2D(pool_size=(2, 2)))\n",
    "model.add(Dropout(0.2))\n",
    "model.add(BatchNormalization())"
   ]
  },
  {
   "cell_type": "markdown",
   "metadata": {
    "colab_type": "text",
    "id": "Z_76RUeqoybi"
   },
   "source": [
    "Now repeat this: "
   ]
  },
  {
   "cell_type": "code",
   "execution_count": 14,
   "metadata": {
    "colab": {},
    "colab_type": "code",
    "id": "AyIOt8-tpY25"
   },
   "outputs": [],
   "source": [
    "model.add(Conv2D(64, (3, 3), padding='same'))\n",
    "model.add(Activation('relu'))\n",
    "model.add(MaxPooling2D(pool_size=(2, 2)))\n",
    "model.add(Dropout(0.2))\n",
    "model.add(BatchNormalization())\n",
    "    \n",
    "model.add(Conv2D(128, (3, 3), padding='same'))\n",
    "model.add(Activation('relu'))\n",
    "model.add(Dropout(0.2))\n",
    "model.add(BatchNormalization())"
   ]
  },
  {
   "cell_type": "markdown",
   "metadata": {
    "colab_type": "text",
    "id": "UKUlxvHDpZTC"
   },
   "source": [
    "Now we need to Flatten the data:\n"
   ]
  },
  {
   "cell_type": "code",
   "execution_count": 15,
   "metadata": {
    "colab": {},
    "colab_type": "code",
    "id": "HNKg51zzpeyq"
   },
   "outputs": [],
   "source": [
    "model.add(Flatten())\n",
    "model.add(Dropout(0.2))"
   ]
  },
  {
   "cell_type": "markdown",
   "metadata": {
    "colab_type": "text",
    "id": "p0Wy9rC0pgux"
   },
   "source": [
    "Now create densely connected layer. \n",
    "The kernel constraint can regularize the data as it learns, another thing that helps prevent overfitting."
   ]
  },
  {
   "cell_type": "code",
   "execution_count": 16,
   "metadata": {
    "colab": {},
    "colab_type": "code",
    "id": "3Y8ilT6EpvnS"
   },
   "outputs": [],
   "source": [
    "model.add(Dense(256, kernel_constraint=constraints.MaxNorm(3)))\n",
    "model.add(Activation('relu'))\n",
    "model.add(Dropout(0.2))\n",
    "model.add(BatchNormalization())\n",
    "    \n",
    "model.add(Dense(128, kernel_constraint=constraints.MaxNorm(3)))\n",
    "model.add(Activation('relu'))\n",
    "model.add(Dropout(0.2))\n",
    "model.add(BatchNormalization())"
   ]
  },
  {
   "cell_type": "markdown",
   "metadata": {
    "colab_type": "text",
    "id": "6XKGJMwPpwGJ"
   },
   "source": [
    "Finally, the softmax activation function selects the neuron with the highest probability as its output, voting that the image belongs to that class:"
   ]
  },
  {
   "cell_type": "code",
   "execution_count": 17,
   "metadata": {
    "colab": {},
    "colab_type": "code",
    "id": "kZqpBRphvXaZ"
   },
   "outputs": [],
   "source": [
    "model.add(Dense(class_num))\n",
    "model.add(Activation('softmax'))"
   ]
  },
  {
   "cell_type": "markdown",
   "metadata": {
    "colab_type": "text",
    "id": "SdsyGwrgvYwj"
   },
   "source": [
    "# Optimize the model"
   ]
  },
  {
   "cell_type": "markdown",
   "metadata": {
    "colab_type": "text",
    "id": "poMPFrnxvhdZ"
   },
   "source": [
    "Now that we've designed the model we want to use, we just have to compile it. Let's specify the number of epochs we want to train for, as well as the optimizer we want to use."
   ]
  },
  {
   "cell_type": "code",
   "execution_count": 18,
   "metadata": {
    "colab": {},
    "colab_type": "code",
    "id": "577SEJW0vi8h"
   },
   "outputs": [],
   "source": [
    "epochs = 25\n",
    "optimizer = 'adam'"
   ]
  },
  {
   "cell_type": "code",
   "execution_count": 19,
   "metadata": {
    "colab": {},
    "colab_type": "code",
    "id": "6gAdCHdPvkOC"
   },
   "outputs": [],
   "source": [
    "model.compile(loss='categorical_crossentropy', optimizer=optimizer, metrics=['accuracy'])"
   ]
  },
  {
   "cell_type": "code",
   "execution_count": 20,
   "metadata": {
    "colab": {
     "base_uri": "https://localhost:8080/",
     "height": 1000
    },
    "colab_type": "code",
    "id": "FwQre-Isvnli",
    "outputId": "d479d740-14c6-4522-a7b1-6d6bbf0e9ecc"
   },
   "outputs": [
    {
     "name": "stdout",
     "output_type": "stream",
     "text": [
      "Model: \"sequential\"\n",
      "_________________________________________________________________\n",
      "Layer (type)                 Output Shape              Param #   \n",
      "=================================================================\n",
      "conv2d (Conv2D)              (None, 32, 32, 28)        784       \n",
      "_________________________________________________________________\n",
      "activation (Activation)      (None, 32, 32, 28)        0         \n",
      "_________________________________________________________________\n",
      "dropout (Dropout)            (None, 32, 32, 28)        0         \n",
      "_________________________________________________________________\n",
      "batch_normalization (BatchNo (None, 32, 32, 28)        112       \n",
      "_________________________________________________________________\n",
      "conv2d_1 (Conv2D)            (None, 32, 32, 64)        16192     \n",
      "_________________________________________________________________\n",
      "activation_1 (Activation)    (None, 32, 32, 64)        0         \n",
      "_________________________________________________________________\n",
      "max_pooling2d (MaxPooling2D) (None, 16, 16, 64)        0         \n",
      "_________________________________________________________________\n",
      "dropout_1 (Dropout)          (None, 16, 16, 64)        0         \n",
      "_________________________________________________________________\n",
      "batch_normalization_1 (Batch (None, 16, 16, 64)        256       \n",
      "_________________________________________________________________\n",
      "conv2d_2 (Conv2D)            (None, 16, 16, 64)        36928     \n",
      "_________________________________________________________________\n",
      "activation_2 (Activation)    (None, 16, 16, 64)        0         \n",
      "_________________________________________________________________\n",
      "max_pooling2d_1 (MaxPooling2 (None, 8, 8, 64)          0         \n",
      "_________________________________________________________________\n",
      "dropout_2 (Dropout)          (None, 8, 8, 64)          0         \n",
      "_________________________________________________________________\n",
      "batch_normalization_2 (Batch (None, 8, 8, 64)          256       \n",
      "_________________________________________________________________\n",
      "conv2d_3 (Conv2D)            (None, 8, 8, 128)         73856     \n",
      "_________________________________________________________________\n",
      "activation_3 (Activation)    (None, 8, 8, 128)         0         \n",
      "_________________________________________________________________\n",
      "dropout_3 (Dropout)          (None, 8, 8, 128)         0         \n",
      "_________________________________________________________________\n",
      "batch_normalization_3 (Batch (None, 8, 8, 128)         512       \n",
      "_________________________________________________________________\n",
      "flatten (Flatten)            (None, 8192)              0         \n",
      "_________________________________________________________________\n",
      "dropout_4 (Dropout)          (None, 8192)              0         \n",
      "_________________________________________________________________\n",
      "dense (Dense)                (None, 256)               2097408   \n",
      "_________________________________________________________________\n",
      "activation_4 (Activation)    (None, 256)               0         \n",
      "_________________________________________________________________\n",
      "dropout_5 (Dropout)          (None, 256)               0         \n",
      "_________________________________________________________________\n",
      "batch_normalization_4 (Batch (None, 256)               1024      \n",
      "_________________________________________________________________\n",
      "dense_1 (Dense)              (None, 128)               32896     \n",
      "_________________________________________________________________\n",
      "activation_5 (Activation)    (None, 128)               0         \n",
      "_________________________________________________________________\n",
      "dropout_6 (Dropout)          (None, 128)               0         \n",
      "_________________________________________________________________\n",
      "batch_normalization_5 (Batch (None, 128)               512       \n",
      "_________________________________________________________________\n",
      "dense_2 (Dense)              (None, 100)               12900     \n",
      "_________________________________________________________________\n",
      "activation_6 (Activation)    (None, 100)               0         \n",
      "=================================================================\n",
      "Total params: 2,273,636\n",
      "Trainable params: 2,272,300\n",
      "Non-trainable params: 1,336\n",
      "_________________________________________________________________\n",
      "None\n"
     ]
    }
   ],
   "source": [
    "print(model.summary())"
   ]
  },
  {
   "cell_type": "markdown",
   "metadata": {
    "colab_type": "text",
    "id": "airLhK5Wvo6i"
   },
   "source": [
    "# Train the model and use Tensorboard"
   ]
  },
  {
   "cell_type": "code",
   "execution_count": null,
   "metadata": {},
   "outputs": [],
   "source": [
    "%load_ext tensorboard\n",
    "#  %reload_ext tensorboard"
   ]
  },
  {
   "cell_type": "code",
   "execution_count": null,
   "metadata": {},
   "outputs": [],
   "source": [
    "import datetime\n",
    "from tensorflow.keras import callbacks "
   ]
  },
  {
   "cell_type": "code",
   "execution_count": 21,
   "metadata": {
    "colab": {
     "base_uri": "https://localhost:8080/",
     "height": 964
    },
    "colab_type": "code",
    "id": "xaGp8cg3v4CI",
    "outputId": "b21b7b83-018a-4826-d3d4-d1cb287e9bd3"
   },
   "outputs": [
    {
     "name": "stdout",
     "output_type": "stream",
     "text": [
      "Train on 50000 samples, validate on 10000 samples\n",
      "Epoch 1/25\n",
      "50000/50000 [==============================] - 128s 3ms/sample - loss: 3.8626 - accuracy: 0.1183 - val_loss: 3.4029 - val_accuracy: 0.1935\n",
      "Epoch 2/25\n",
      "50000/50000 [==============================] - 127s 3ms/sample - loss: 3.1890 - accuracy: 0.2219 - val_loss: 2.8790 - val_accuracy: 0.2777\n",
      "Epoch 3/25\n",
      "50000/50000 [==============================] - 134s 3ms/sample - loss: 2.7891 - accuracy: 0.2921 - val_loss: 2.4534 - val_accuracy: 0.3627\n",
      "Epoch 4/25\n",
      "50000/50000 [==============================] - 134s 3ms/sample - loss: 2.5334 - accuracy: 0.3444 - val_loss: 2.2926 - val_accuracy: 0.3979\n",
      "Epoch 5/25\n",
      "50000/50000 [==============================] - 132s 3ms/sample - loss: 2.3716 - accuracy: 0.3777 - val_loss: 2.2542 - val_accuracy: 0.4097\n",
      "Epoch 6/25\n",
      "50000/50000 [==============================] - 132s 3ms/sample - loss: 2.2487 - accuracy: 0.4042 - val_loss: 2.1072 - val_accuracy: 0.4469\n",
      "Epoch 7/25\n",
      "50000/50000 [==============================] - 127s 3ms/sample - loss: 2.1568 - accuracy: 0.4236 - val_loss: 2.0804 - val_accuracy: 0.4464\n",
      "Epoch 8/25\n",
      "50000/50000 [==============================] - 126s 3ms/sample - loss: 2.1018 - accuracy: 0.4341 - val_loss: 2.0028 - val_accuracy: 0.4611\n",
      "Epoch 9/25\n",
      "50000/50000 [==============================] - 127s 3ms/sample - loss: 2.0322 - accuracy: 0.4533 - val_loss: 1.9226 - val_accuracy: 0.4846\n",
      "Epoch 10/25\n",
      "50000/50000 [==============================] - 127s 3ms/sample - loss: 1.9907 - accuracy: 0.4606 - val_loss: 1.9465 - val_accuracy: 0.4789\n",
      "Epoch 11/25\n",
      "50000/50000 [==============================] - 127s 3ms/sample - loss: 1.9406 - accuracy: 0.4741 - val_loss: 2.0341 - val_accuracy: 0.4667\n",
      "Epoch 12/25\n",
      "50000/50000 [==============================] - 134s 3ms/sample - loss: 1.9118 - accuracy: 0.4774 - val_loss: 1.9607 - val_accuracy: 0.4710\n",
      "Epoch 13/25\n",
      "50000/50000 [==============================] - 128s 3ms/sample - loss: 1.8856 - accuracy: 0.4834 - val_loss: 1.8555 - val_accuracy: 0.5008\n",
      "Epoch 14/25\n",
      "50000/50000 [==============================] - 127s 3ms/sample - loss: 1.8415 - accuracy: 0.4967 - val_loss: 1.9036 - val_accuracy: 0.4878\n",
      "Epoch 15/25\n",
      "50000/50000 [==============================] - 126s 3ms/sample - loss: 1.8179 - accuracy: 0.4995 - val_loss: 1.8172 - val_accuracy: 0.5069\n",
      "Epoch 16/25\n",
      "50000/50000 [==============================] - 126s 3ms/sample - loss: 1.7935 - accuracy: 0.5055 - val_loss: 1.8764 - val_accuracy: 0.4929\n",
      "Epoch 17/25\n",
      "50000/50000 [==============================] - 125s 3ms/sample - loss: 1.7691 - accuracy: 0.5106 - val_loss: 1.8236 - val_accuracy: 0.5058\n",
      "Epoch 18/25\n",
      "50000/50000 [==============================] - 127s 3ms/sample - loss: 1.7481 - accuracy: 0.5179 - val_loss: 1.8811 - val_accuracy: 0.4962\n",
      "Epoch 19/25\n",
      "50000/50000 [==============================] - 126s 3ms/sample - loss: 1.7360 - accuracy: 0.5186 - val_loss: 1.8400 - val_accuracy: 0.5093\n",
      "Epoch 20/25\n",
      "50000/50000 [==============================] - 126s 3ms/sample - loss: 1.7174 - accuracy: 0.5218 - val_loss: 1.8341 - val_accuracy: 0.5082\n",
      "Epoch 21/25\n",
      "50000/50000 [==============================] - 125s 2ms/sample - loss: 1.7093 - accuracy: 0.5212 - val_loss: 1.7709 - val_accuracy: 0.5206\n",
      "Epoch 22/25\n",
      "50000/50000 [==============================] - 125s 2ms/sample - loss: 1.6879 - accuracy: 0.5289 - val_loss: 1.8452 - val_accuracy: 0.5076\n",
      "Epoch 23/25\n",
      "50000/50000 [==============================] - 123s 2ms/sample - loss: 1.6798 - accuracy: 0.5303 - val_loss: 1.8307 - val_accuracy: 0.5074\n",
      "Epoch 24/25\n",
      "50000/50000 [==============================] - 123s 2ms/sample - loss: 1.6723 - accuracy: 0.5314 - val_loss: 1.7457 - val_accuracy: 0.5213\n",
      "Epoch 25/25\n",
      "50000/50000 [==============================] - 123s 2ms/sample - loss: 1.6552 - accuracy: 0.5340 - val_loss: 1.7466 - val_accuracy: 0.5277\n"
     ]
    },
    {
     "data": {
      "text/plain": [
       "<tensorflow.python.keras.callbacks.History at 0x2188fcc5808>"
      ]
     },
     "execution_count": 21,
     "metadata": {},
     "output_type": "execute_result"
    }
   ],
   "source": [
    "numpy.random.seed(seed)\n",
    "history = model.fit(X_train, y_train, validation_data=(X_test, y_test), epochs=epochs, batch_size=64, callbacks=[tensorboard_callback])"
   ]
  },
  {
   "cell_type": "markdown",
   "metadata": {},
   "source": [
    "To plot the learning curve:"
   ]
  },
  {
   "cell_type": "code",
   "execution_count": null,
   "metadata": {},
   "outputs": [],
   "source": [
    "import pandas as pd\n",
    "import matplotlib.pyplot as plt\n",
    "def plot_learning_curves(history):\n",
    "    pd.DataFrame(history.history).plot(figsize=(8, 5))\n",
    "    plt.grid(True)\n",
    "    plt.gca().set_ylim(0, 1)\n",
    "    plt.show()"
   ]
  },
  {
   "cell_type": "code",
   "execution_count": null,
   "metadata": {},
   "outputs": [],
   "source": [
    "plot_learning_curves(history)"
   ]
  },
  {
   "cell_type": "code",
   "execution_count": null,
   "metadata": {},
   "outputs": [],
   "source": [
    "%tensorboard --logdir logs/fit"
   ]
  },
  {
   "cell_type": "markdown",
   "metadata": {
    "colab_type": "text",
    "id": "cUeLXJ4_v4py"
   },
   "source": [
    "# Evaluate model"
   ]
  },
  {
   "cell_type": "code",
   "execution_count": 22,
   "metadata": {
    "colab": {
     "base_uri": "https://localhost:8080/",
     "height": 35
    },
    "colab_type": "code",
    "id": "2pEhKXWLhgZk",
    "outputId": "2ad89d71-c0de-4b31-8b3a-b575b8b5c210"
   },
   "outputs": [
    {
     "name": "stdout",
     "output_type": "stream",
     "text": [
      "Accuracy: 52.77%\n"
     ]
    }
   ],
   "source": [
    "scores = model.evaluate(X_test, y_test, verbose=0)\n",
    "print(\"Accuracy: %.2f%%\" % (scores[1]*100))"
   ]
  },
  {
   "cell_type": "markdown",
   "metadata": {
    "colab_type": "text",
    "id": "462t3LDQh9oT"
   },
   "source": [
    "# Save Model"
   ]
  },
  {
   "cell_type": "code",
   "execution_count": 24,
   "metadata": {
    "colab": {
     "base_uri": "https://localhost:8080/",
     "height": 164
    },
    "colab_type": "code",
    "id": "aOfGEucHh7YE",
    "outputId": "8a0b4d25-d6d1-4c38-9acf-ac641f1bfb03"
   },
   "outputs": [
    {
     "name": "stdout",
     "output_type": "stream",
     "text": [
      "WARNING:tensorflow:From C:\\Users\\andre\\Anaconda3\\envs\\tf2\\lib\\site-packages\\tensorflow_core\\python\\ops\\resource_variable_ops.py:1786: calling BaseResourceVariable.__init__ (from tensorflow.python.ops.resource_variable_ops) with constraint is deprecated and will be removed in a future version.\n",
      "Instructions for updating:\n",
      "If using Keras pass *_constraint arguments to layers.\n",
      "INFO:tensorflow:Assets written to: saved_model/my_model_cifar100\\assets\n"
     ]
    }
   ],
   "source": [
    "model.save('saved_model\\my_model_cifar100') "
   ]
  },
  {
   "cell_type": "code",
   "execution_count": null,
   "metadata": {
    "colab": {},
    "colab_type": "code",
    "id": "Wzkmpq0oh9H-"
   },
   "outputs": [],
   "source": [
    "import tensorflow as tf \n",
    "new_model = tf.keras.models.load_model('saved_model\\my_model_cifar100')"
   ]
  },
  {
   "cell_type": "code",
   "execution_count": null,
   "metadata": {
    "colab": {},
    "colab_type": "code",
    "id": "8uQesKesiLS8"
   },
   "outputs": [],
   "source": []
  }
 ],
 "metadata": {
  "colab": {
   "collapsed_sections": [],
   "name": "Image_classifier_example_calculate_and_save_caltech101",
   "provenance": [],
   "toc_visible": true
  },
  "kernelspec": {
   "display_name": "Python 3",
   "language": "python",
   "name": "python3"
  },
  "language_info": {
   "codemirror_mode": {
    "name": "ipython",
    "version": 3
   },
   "file_extension": ".py",
   "mimetype": "text/x-python",
   "name": "python",
   "nbconvert_exporter": "python",
   "pygments_lexer": "ipython3",
   "version": "3.7.8"
  }
 },
 "nbformat": 4,
 "nbformat_minor": 1
}
